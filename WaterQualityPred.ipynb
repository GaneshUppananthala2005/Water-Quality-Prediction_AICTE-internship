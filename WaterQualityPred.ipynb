In [ ]:  # To install basic/necessary libraries
         pip install pandas numpy matplotlib seaborn scikit-learn
 In [1]: # Import necessary libraries
         import pandas as pd # data manipulation
          import numpy as np #
numerical python - linear algebra
 from sklearn.multioutput import MultiOutputRegressor
 from sklearn.ensemble import RandomForestRegressor
 from sklearn.model_selection import train_test_split
 from sklearn.metrics import mean_squared_error, r2_score
 In [2]: # load the dataset
 df = pd.read_csv('PB_All_2000_2021.csv', sep=';')
 df
 Out[2]:
 id
 date NH4 BSK5 Suspended O2 NO3 NO2 SO4 PO4
 CL
 0 1 17.02.2000 0.330 2.77
 1 1 11.05.2000 0.044 3.00
 2 1 11.09.2000 0.032 2.10
 3 1 13.12.2000 0.170 2.23
 4 1 02.03.2001 0.000 3.03
 ...
 ...
 ...
 ...
 ...
 2856 22 06.10.2020 0.046 2.69
 2857 22 27.10.2020 0.000 1.52
 2858 22 03.12.2020 0.034 0.29
 2859 22 12.01.2021 0.000 2.10
 2860 22 10.02.2021 0.000 1.78
 2861 rows × 11 columns
 12.0 12.30 9.50 0.057 154.00 0.454 289.50
 51.6 14.61 17.75 0.034 352.00 0.090 1792.00
 24.5
 9.87 13.80 0.173 416.00 0.200 2509.00
 35.6 12.40 17.13 0.099 275.20 0.377 1264.00
 48.8 14.69 10.00 0.065 281.60 0.134 1462.00
 ...
 3.6
 ...
 8.28
 ...
 ...
 ...
 ...
 3.80 0.038 160.00 0.726
 0.5 11.26 0.56 0.031 147.20 0.634
 0.8 11.09 2.58 0.042 209.92 0.484
 0.0 14.31 3.94 0.034 121.60 0.424
 0.0 14.30 6.30 0.033 134.40 0.582
 ...
 77.85
 71.95
 61.17
 63.49
 66.31
 2/6
 https://github.com/RGS-AI/AICTE_Internships/blob/5dda72b7579e1ba81c6c1f1a3d12b707f27a3351/2025/June_2025/Water_Quality_Prediction/WaterQualityPred.ipynb
22/06/2025, 18:09
 AICTE_Internships/2025/June_2025/Water_Quality_Prediction/WaterQualityPred.ipynb at 5dda72b7579e1ba81c6c1f1a3d12b707f27a3351 · RGS-AI/AICTE_Internships
 In [3]: df.info() # dataset info
 <class 'pandas.core.frame.DataFrame'>
 RangeIndex: 2861 entries, 0 to 2860
 Data columns (total 11 columns):
 #   Column     Non-Null Count  Dtype  ---  ------     --------------  -----  
0   id         2861 non-null   int64  
1   date       2861 non-null   object 
2   NH4        2858 non-null   float64
 3   BSK5       2860 non-null   float64
 4   Suspended  2845 non-null   float64
 5   O2         2858 non-null   float64
 6   NO3        2860 non-null   float64
 7   NO2        2858 non-null   float64
 8   SO4        2812 non-null   float64
 9   PO4        2833 non-null   float64
 10  CL         2812 non-null   float64
 dtypes: float64(9), int64(1), object(1)
 memory usage: 246.0+ KB
 In [4]: # rows and cols
 df.shape
 Out[4]: (2861, 11)
 In [6]: # Statistics of the data
 df.describe().T
 Out[6]:
 count
 mean
 std min
 25% 50%
 75%
 max
 id 2861.0 12.397064
 NH4 2858.0 0.758734
 BSK5 2860.0 4.316182
 6.084226 1.00 8.0000 14.000 16.00000
 2.486247 0.00 0.0800 0.220 0.50000
 2.973997 0.00 2.1600 3.800 5.80000
 22.000
 39.427
 50.900
 Suspended 2845.0 12.931905 16.543097 0.00 6.0000 10.000 15.00000 595.000
 O2 2858.0 9.508902
 4.428260 0.00 7.0925 8.995 11.52000
 90.000
 NO3 28600 4316846 6881188 000 13900 2800 558250 133400
 3/6
 https://github.com/RGS-AI/AICTE_Internships/blob/5dda72b7579e1ba81c6c1f1a3d12b707f27a3351/2025/June_2025/Water_Quality_Prediction/WaterQualityPred.ipynb
22/06/2025, 18:09
 6.881188 0.00 1.3900 2.800 5.58250 133.400
 AICTE_Internships/2025/June_2025/Water_Quality_Prediction/WaterQualityPred.ipynb at 5dda72b7579e1ba81c6c1f1a3d12b707f27a3351 · RGS-AI/AICTE_Internships
 NO3 2860.0 4.316846
 NO2 2858.0 0.246128
 2.182777 0.00 0.0300 0.059 0.12575 109.000
 SO4 2812.0 59.362313 96.582641 0.00 27.0525 37.800 64.64000 3573.400
 PO4 2833.0 0.418626
 0.771326 0.00 0.1300 0.270 0.47000
 13.879
 CL 2812.0 93.731991 394.512184 0.02 26.8000 33.900 45.60750 5615.280
 In [7]: # Missing values
 df.isnull().sum()
 Out[7]: id            0
 date          0
 NH4           3
 BSK5          1
 Suspended    16
 O2            3
 NO3           1
 NO2           3
 SO4          49
 PO4          28
 CL           49
 dtype: int64
 In [8]: # date is in object - date format
 df['date'] = pd.to_datetime(df['date'], format='%d.%m.%Y')
 df
 Out[8]:
 id
 date NH4 BSK5 Suspended O2 NO3 NO2 SO4 PO4
 0 1 2000-02-17 0.330 2.77
 CL
 12.0 12.30 9.50 0.057 154.00 0.454 289.50
 1 1 2000-05-11 0.044 3.00
 2 1 2000-09-11 0.032 2.10
 3 1 2000-12-13 0.170 2.23
 4 1 2001-03-02 0.000 3.03
 ...
 ...
 ...
 ...
 ...
 2856 22 2020 10 06 0046 269
 51.6 14.61 17.75 0.034 352.00 0.090 1792.00
 24.5
 9.87 13.80 0.173 416.00 0.200 2509.00
 35.6 12.40 17.13 0.099 275.20 0.377 1264.00
 48.8 14.69 10.00 0.065 281.60 0.134 1462.00
 ...
 ...
 ...
 ...
 ...
 ...
 ...
 3 6 828 380 0038 16000 0726 7785
 4/6
 https://github.com/RGS-AI/AICTE_Internships/blob/5dda72b7579e1ba81c6c1f1a3d12b707f27a3351/2025/June_2025/Water_Quality_Prediction/WaterQualityPred.ipynb
22/06/2025, 18:09
 3.6
 8.28
 3.80 0.038 160.00 0.726
 77.85
 AICTE_Internships/2025/June_2025/Water_Quality_Prediction/WaterQualityPred.ipynb at 5dda72b7579e1ba81c6c1f1a3d12b707f27a3351 · RGS-AI/AICTE_Internships
 2856 22 2020-10-06 0.046 2.69
 2857 22 2020-10-27 0.000 1.52
 2858 22 2020-12-03 0.034 0.29
 2859 22 2021-01-12 0.000 2.10
 2860 22 2021-02-10 0.000 1.78
 2861 rows × 11 columns
 In [9]: df.info()
 0.5 11.26 0.56 0.031 147.20 0.634
 0.8 11.09 2.58 0.042 209.92 0.484
 0.0 14.31 3.94 0.034 121.60 0.424
 0.0 14.30 6.30 0.033 134.40 0.582
 71.95
 61.17
 63.49
 66.31
 <class 'pandas.core.frame.DataFrame'>
 RangeIndex: 2861 entries, 0 to 2860
 Data columns (total 11 columns):
 #   Column     Non-Null Count  Dtype         ---  ------     --------------  -----         
0   id         2861 non-null   int64         
1   date       2861 non-null   datetime64[ns]
 2   NH4        2858 non-null   float64       
3   BSK5       2860 non-null   float64       
4   Suspended  2845 non-null   float64       
5   O2         2858 non-null   float64       
6   NO3        2860 non-null   float64       
7   NO2        2858 non-null   float64       
8   SO4        2812 non-null   float64       
9   PO4        2833 non-null   float64       
10  CL         2812 non-null   float64       
dtypes: datetime64[ns](1), float64(9), int64(1)
 memory usage: 246.0 KB
 In [10]: df = df.sort_values(by=['id', 'date'])
 df.head()
 Out[10]:
 id
 date NH4 BSK5 Suspended O2 NO3 NO2 SO4 PO4 CL
 0 1 2000-02-17 0.330 2.77
 1 1 2000-05-11 0.044 3.00
 2 1 2000-09-11 0.032 2.10
 12.0 12.30 9.50 0.057 154.0 0.454 289.5
 51.6 14.61 17.75 0.034 352.0 0.090 1792.0
 24.5
 9.87 13.80 0.173 416.0 0.200 2509.0
 5/6
 https://github.com/RGS-AI/AICTE_Internships/blob/5dda72b7579e1ba81c6c1f1a3d12b707f27a3351/2025/June_2025/Water_Quality_Prediction/WaterQualityPred.ipynb
22/06/2025, 18:09
 35.6 12.40 17.13 0.099 275.2 0.377 1264.0
 AICTE_Internships/2025/June_2025/Water_Quality_Prediction/WaterQualityPred.ipynb at 5dda72b7579e1ba81c6c1f1a3d12b707f27a3351 · RGS-AI/AICTE_Internships
 3 1 2000-12-13 0.170 2.23
 4 1 2001-03-02 0.000 3.03
 In [11]: df['year'] = df['date'].dt.year
 df['month'] = df['date'].dt.month
 In [12]: df.head()
 Out[12]:
 id
 48.8 14.69 10.00 0.065 281.6 0.134 1462.0
 date NH4 BSK5 Suspended O2 NO3 NO2 SO4 PO4 CL year month
 0 1 2000-02-17 0.330 2.77
 1 1 2000-05-11 0.044 3.00
 2 1 2000-09-11 0.032 2.10
 3 1 2000-12-13 0.170 2.23
 4 1 2001-03-02 0.000 3.03
 In [13]: df.columns
 12.0 12.30 9.50 0.057 154.0 0.454 289.5 2000
 51.6 14.61 17.75 0.034 352.0 0.090 1792.0 2000
 24.5
 9.87 13.80 0.173 416.0 0.200 2509.0 2000
 35.6 12.40 17.13 0.099 275.2 0.377 1264.0 2000
 48.8 14.69 10.00 0.065 281.6 0.134 1462.0 2001
 2
 5
 9
 12
 3
 Out[13]: Index(['id', 'date', 'NH4', 'BSK5', 'Suspended', 'O2', 'NO3', 'NO2', 'SO4',
 'PO4', 'CL', 'year', 'month'],
 dtype='object')
 In [ ]: pollutants = ['O2', 'NO3', 'NO2', 'SO4',
 'PO4', 'CL']
